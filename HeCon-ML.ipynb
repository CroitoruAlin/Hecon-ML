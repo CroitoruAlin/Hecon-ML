{
 "cells": [
  {
   "cell_type": "code",
   "execution_count": null,
   "metadata": {},
   "outputs": [],
   "source": [
    "import random\n",
    "import cv2\n",
    "import os\n",
    "import numpy as np\n",
    "import tensorflow as tf\n",
    "from tensorflow.python.keras import utils\n",
    "from keras.preprocessing.image import ImageDataGenerator"
   ]
  },
  {
   "cell_type": "code",
   "execution_count": null,
   "metadata": {},
   "outputs": [],
   "source": [
    "train_path = './chest_xray/train'\n",
    "test_path = './chest_xray/test'"
   ]
  },
  {
   "cell_type": "code",
   "execution_count": null,
   "metadata": {},
   "outputs": [],
   "source": [
    "training_data_generator = ImageDataGenerator(\n",
    "    rescale=1./255,\n",
    "    shear_range=0.1,\n",
    "    zoom_range=0.1,\n",
    "    horizontal_flip=True)\n",
    "\n",
    "training_generator = training_data_generator.flow_from_directory(\n",
    "    train_path,\n",
    "    target_size=(192, 192),\n",
    "    batch_size=20,\n",
    "    class_mode=\"binary\")"
   ]
  },
  {
   "cell_type": "code",
   "execution_count": null,
   "metadata": {},
   "outputs": [],
   "source": [
    "test_data_generator = ImageDataGenerator(rescale=1./255)\n",
    "test_generator = test_data_generator.flow_from_directory(\n",
    "    test_path,\n",
    "    target_size=(192, 192),\n",
    "    batch_size=20,\n",
    "    class_mode=\"binary\", \n",
    "    shuffle=False)"
   ]
  },
  {
   "cell_type": "code",
   "execution_count": null,
   "metadata": {},
   "outputs": [],
   "source": [
    "model = tf.keras.models.Sequential()\n",
    "firstConv_layer = tf.keras.layers.Conv2D(input_shape = [192,192,3],filters = 64, kernel_size = 4, padding = 'same', activation=tf.nn.relu)\n",
    "model.add(firstConv_layer)\n",
    "firstPooling_layer = tf.keras.layers.MaxPooling2D(pool_size = (2,2),strides = (2,2))\n",
    "model.add(firstPooling_layer)\n",
    "model.add(tf.keras.layers.Dropout(0.2))\n",
    "secondConv_layer = tf.keras.layers.Convolution2D(filters = 64, kernel_size = 2,activation = 'relu',padding = 'same')\n",
    "model.add(secondConv_layer)\n",
    "\n",
    "secondPooling_layer = tf.keras.layers.MaxPooling2D(pool_size = (2,2),strides = (2,2))\n",
    "model.add(secondPooling_layer)\n",
    "model.add(tf.keras.layers.Dropout(0.2))\n",
    "\n",
    "thirdConv_layer = tf.keras.layers.Convolution2D(filters = 64, kernel_size = 2,activation = 'relu',padding = 'same')\n",
    "model.add(thirdConv_layer)\n",
    "model.add(tf.keras.layers.MaxPooling2D(pool_size = (2,2),strides = (2,2)))\n",
    "model.add(tf.keras.layers.Dropout(0.2))\n",
    "\n",
    "model.add(tf.keras.layers.Flatten())\n",
    "    \n",
    "dense_layer1 = tf.keras.layers.Dense(4, activation = 'relu')\n",
    "dense_layer3 = tf.keras.layers.Dense(2, activation = 'softmax')\n",
    "model.add(dense_layer1)\n",
    "model.add(dense_layer3)\n",
    "\n",
    "model.compile(loss='sparse_categorical_crossentropy', optimizer='adam', metrics=['accuracy'])\n",
    "history = model.fit_generator(generator = training_generator, epochs = 5, validation_data = test_generator,validation_steps = 20,steps_per_epoch = 100)"
   ]
  }
 ],
 "metadata": {
  "kernelspec": {
   "display_name": "Python 3",
   "language": "python",
   "name": "python3"
  },
  "language_info": {
   "codemirror_mode": {
    "name": "ipython",
    "version": 3
   },
   "file_extension": ".py",
   "mimetype": "text/x-python",
   "name": "python",
   "nbconvert_exporter": "python",
   "pygments_lexer": "ipython3",
   "version": "3.6.6"
  }
 },
 "nbformat": 4,
 "nbformat_minor": 2
}
